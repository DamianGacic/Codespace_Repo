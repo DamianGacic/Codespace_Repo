{
 "cells": [
  {
   "cell_type": "code",
   "execution_count": 2,
   "metadata": {},
   "outputs": [
    {
     "name": "stdout",
     "output_type": "stream",
     "text": [
      "C executable ran successfully\n",
      "Output: Sum of squares from 1 to 1234567: 627224862841565260\n",
      "Execution Time: 0.002135 seconds\n",
      "\n"
     ]
    }
   ],
   "source": [
    "import subprocess\n",
    "\n",
    "# Replace 'your_c_executable' with the actual name of your C executable\n",
    "c_executable = './your_c_executable'\n",
    "\n",
    "# Use subprocess to run the C executable\n",
    "result = subprocess.run(['./a.out'] + ['1234567'], stdout=subprocess.PIPE, stderr=subprocess.PIPE, text=True)\n",
    "\n",
    "# Check the result\n",
    "if result.returncode == 0:\n",
    "    print(\"C executable ran successfully\")\n",
    "    print(\"Output:\", result.stdout)\n",
    "else:\n",
    "    print(\"Error running C executable\")\n",
    "    print(\"Error:\", result.stderr)"
   ]
  },
  {
   "cell_type": "code",
   "execution_count": 4,
   "metadata": {},
   "outputs": [
    {
     "name": "stdout",
     "output_type": "stream",
     "text": [
      "C executable ran successfully\n",
      "Output: Sum of squares from 1 to 1234567: 627224862841565260\n",
      "Execution Time: 0.08743858337402344 seconds\n",
      "\n"
     ]
    }
   ],
   "source": [
    "import subprocess\n",
    "\n",
    "\n",
    "\n",
    "# Use subprocess to run the C executable\n",
    "result = subprocess.run(['python','square_sum.py','1234567'] , stdout=subprocess.PIPE, stderr=subprocess.PIPE, text=True)\n",
    "\n",
    "# Check the result\n",
    "if result.returncode == 0:\n",
    "    print(\"Python script ran successfully\")\n",
    "    print(\"Output:\", result.stdout)\n",
    "else:\n",
    "    print(\"Python script C executable\")\n",
    "    print(\"Error:\", result.stderr)"
   ]
  }
 ],
 "metadata": {
  "kernelspec": {
   "display_name": "Python 3",
   "language": "python",
   "name": "python3"
  },
  "language_info": {
   "codemirror_mode": {
    "name": "ipython",
    "version": 3
   },
   "file_extension": ".py",
   "mimetype": "text/x-python",
   "name": "python",
   "nbconvert_exporter": "python",
   "pygments_lexer": "ipython3",
   "version": "3.10.13"
  }
 },
 "nbformat": 4,
 "nbformat_minor": 2
}
